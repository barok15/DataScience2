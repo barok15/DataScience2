{
 "cells": [
  {
   "cell_type": "code",
   "execution_count": 16,
   "id": "dd9abbdb",
   "metadata": {},
   "outputs": [],
   "source": [
    "import pandas as pd \n",
    "import seaborn as sns\n",
    "from sklearn.model_selection import train_test_split\n",
    "import math"
   ]
  },
  {
   "cell_type": "code",
   "execution_count": 2,
   "id": "85ad8306",
   "metadata": {},
   "outputs": [],
   "source": [
    "df = pd.read_csv(\"titanic.csv\")"
   ]
  },
  {
   "cell_type": "code",
   "execution_count": 3,
   "id": "9b760ce4",
   "metadata": {},
   "outputs": [
    {
     "name": "stdout",
     "output_type": "stream",
     "text": [
      "<class 'pandas.core.frame.DataFrame'>\n",
      "RangeIndex: 418 entries, 0 to 417\n",
      "Data columns (total 12 columns):\n",
      " #   Column       Non-Null Count  Dtype  \n",
      "---  ------       --------------  -----  \n",
      " 0   PassengerId  418 non-null    int64  \n",
      " 1   Survived     418 non-null    int64  \n",
      " 2   Pclass       418 non-null    int64  \n",
      " 3   Name         418 non-null    object \n",
      " 4   Sex          418 non-null    object \n",
      " 5   Age          332 non-null    float64\n",
      " 6   SibSp        418 non-null    int64  \n",
      " 7   Parch        418 non-null    int64  \n",
      " 8   Ticket       418 non-null    object \n",
      " 9   Fare         417 non-null    float64\n",
      " 10  Cabin        91 non-null     object \n",
      " 11  Embarked     418 non-null    object \n",
      "dtypes: float64(2), int64(5), object(5)\n",
      "memory usage: 39.3+ KB\n"
     ]
    }
   ],
   "source": [
    "df.info()"
   ]
  },
  {
   "cell_type": "code",
   "execution_count": 4,
   "id": "e0137ed4",
   "metadata": {},
   "outputs": [
    {
     "data": {
      "text/plain": [
       "<AxesSubplot:xlabel='Sex', ylabel='Survived'>"
      ]
     },
     "execution_count": 4,
     "metadata": {},
     "output_type": "execute_result"
    },
    {
     "data": {
      "image/png": "[encoded data removed]",
      "text/plain": [
       "<Figure size 640x480 with 1 Axes>"
      ]
     },
     "metadata": {},
     "output_type": "display_data"
    }
   ],
   "source": [
    "sns.scatterplot(data=df, x='Sex', y='Survived')"
   ]
  },
  {
   "cell_type": "code",
   "execution_count": 5,
   "id": "7ad212d8",
   "metadata": {},
   "outputs": [
    {
     "data": {
      "text/plain": [
       "Index(['PassengerId', 'Survived', 'Pclass', 'Name', 'Sex', 'Age', 'SibSp',\n",
       "       'Parch', 'Ticket', 'Fare', 'Cabin', 'Embarked'],\n",
       "      dtype='object')"
      ]
     },
     "execution_count": 5,
     "metadata": {},
     "output_type": "execute_result"
    }
   ],
   "source": [
    "df.columns"
   ]
  },
  {
   "cell_type": "code",
   "execution_count": 6,
   "id": "c4ca2788",
   "metadata": {},
   "outputs": [],
   "source": [
    "df.drop(['PassengerId', 'Name', 'Age', 'SibSp', 'Parch', 'Ticket', 'Cabin', 'Fare', 'Embarked'], axis=1, inplace=True)"
   ]
  },
  {
   "cell_type": "code",
   "execution_count": 8,
   "id": "8c875e67",
   "metadata": {},
   "outputs": [],
   "source": [
    "newCol = {'NewSex': []}\n",
    "for i in range(len(df)): \n",
    "    if df.iloc[i]['Sex'] == 'male': \n",
    "            newCol['NewSex'].append(1)\n",
    "    else: \n",
    "        newCol['NewSex'].append(2)"
   ]
  },
  {
   "cell_type": "code",
   "execution_count": 10,
   "id": "6694b2b9",
   "metadata": {},
   "outputs": [],
   "source": [
    "df['NewSex'] = newCol['NewSex']"
   ]
  },
  {
   "cell_type": "code",
   "execution_count": 13,
   "id": "e1aa61c7",
   "metadata": {},
   "outputs": [],
   "source": [
    "x = df.drop(['Survived'], axis=1)\n",
    "y = df.drop(['Pclass', 'Sex', 'NewSex'], axis=1)"
   ]
  },
  {
   "cell_type": "code",
   "execution_count": 14,
   "id": "f8870e0a",
   "metadata": {},
   "outputs": [],
   "source": [
    "X_train, X_test, y_train, y_test = train_test_split(x,y, test_size=0.3)"
   ]
  },
  {
   "cell_type": "code",
   "execution_count": 17,
   "id": "3129ecdc",
   "metadata": {},
   "outputs": [],
   "source": [
    "# TRAINING THE MODEL \n",
    "# 1. pick a value for K \n",
    "# 2. given k and euclidean distance, determine the label of each value in test \n",
    "\n",
    "def kNN(dfX, dfY, k, unknown):\n",
    "    allDistances = {} # {rowIndex: [distance, label]}\n",
    "    for i in range(len(df)):\n",
    "        distance = math.sqrt((df.iloc[i]['Pclass'] - unknown['Pclass'])**2 + (df.iloc[i]['NewSex'] - unknown['NewSex'])**2)\n",
    "        allDistances[i] = [distance, dfY.iloc[i]['Survived']]\n",
    "    return allDistances"
   ]
  },
  {
   "cell_type": "code",
   "execution_count": null,
   "id": "85e104e8",
   "metadata": {},
   "outputs": [],
   "source": [
    "kNN(X_train, y_train, 3, X_test.iloc[0])"
   ]
  },
  {
   "cell_type": "code",
   "execution_count": null,
   "id": "28e815f5",
   "metadata": {},
   "outputs": [],
   "source": [
    "# TEST K \n",
    "# Calculate the number of predictions we got right "
   ]
  }
 ],
 "metadata": {
  "kernelspec": {
   "display_name": "Python 3 (ipykernel)",
   "language": "python",
   "name": "python3"
  },
  "language_info": {
   "codemirror_mode": {
    "name": "ipython",
    "version": 3
   },
   "file_extension": ".py",
   "mimetype": "text/x-python",
   "name": "python",
   "nbconvert_exporter": "python",
   "pygments_lexer": "ipython3",
   "version": "3.9.13"
  }
 },
 "nbformat": 4,
 "nbformat_minor": 5
}
