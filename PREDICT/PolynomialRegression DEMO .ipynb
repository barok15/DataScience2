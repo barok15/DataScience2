{
 "cells": [
  {
   "cell_type": "code",
   "execution_count": 51,
   "id": "1edb18f3",
   "metadata": {},
   "outputs": [],
   "source": [
    "import pandas as pd \n",
    "import seaborn as sns \n",
    "import random\n",
    "import math"
   ]
  },
  {
   "cell_type": "code",
   "execution_count": 52,
   "id": "9a8cb171",
   "metadata": {},
   "outputs": [],
   "source": [
    "df = pd.read_csv(\"IndiaGDP.csv\")"
   ]
  },
  {
   "cell_type": "code",
   "execution_count": 53,
   "id": "93b6814f",
   "metadata": {},
   "outputs": [
    {
     "data": {
      "text/html": [
       "<div>\n",
       "<style scoped>\n",
       "    .dataframe tbody tr th:only-of-type {\n",
       "        vertical-align: middle;\n",
       "    }\n",
       "\n",
       "    .dataframe tbody tr th {\n",
       "        vertical-align: top;\n",
       "    }\n",
       "\n",
       "    .dataframe thead th {\n",
       "        text-align: right;\n",
       "    }\n",
       "</style>\n",
       "<table border=\"1\" class=\"dataframe\">\n",
       "  <thead>\n",
       "    <tr style=\"text-align: right;\">\n",
       "      <th></th>\n",
       "      <th>Unnamed: 0</th>\n",
       "      <th>Year</th>\n",
       "      <th>GDP</th>\n",
       "      <th>Per Capita</th>\n",
       "      <th>Growth %</th>\n",
       "    </tr>\n",
       "  </thead>\n",
       "  <tbody>\n",
       "    <tr>\n",
       "      <th>0</th>\n",
       "      <td>0</td>\n",
       "      <td>2021</td>\n",
       "      <td>3173.40</td>\n",
       "      <td>182160</td>\n",
       "      <td>8.95</td>\n",
       "    </tr>\n",
       "    <tr>\n",
       "      <th>1</th>\n",
       "      <td>1</td>\n",
       "      <td>2020</td>\n",
       "      <td>2667.69</td>\n",
       "      <td>154640</td>\n",
       "      <td>-6.60</td>\n",
       "    </tr>\n",
       "    <tr>\n",
       "      <th>2</th>\n",
       "      <td>2</td>\n",
       "      <td>2019</td>\n",
       "      <td>2831.55</td>\n",
       "      <td>165760</td>\n",
       "      <td>3.74</td>\n",
       "    </tr>\n",
       "    <tr>\n",
       "      <th>3</th>\n",
       "      <td>3</td>\n",
       "      <td>2018</td>\n",
       "      <td>2702.93</td>\n",
       "      <td>159840</td>\n",
       "      <td>6.45</td>\n",
       "    </tr>\n",
       "    <tr>\n",
       "      <th>4</th>\n",
       "      <td>4</td>\n",
       "      <td>2017</td>\n",
       "      <td>2651.47</td>\n",
       "      <td>158480</td>\n",
       "      <td>6.80</td>\n",
       "    </tr>\n",
       "  </tbody>\n",
       "</table>\n",
       "</div>"
      ],
      "text/plain": [
       "   Unnamed: 0  Year      GDP  Per Capita  Growth %\n",
       "0           0  2021  3173.40      182160      8.95\n",
       "1           1  2020  2667.69      154640     -6.60\n",
       "2           2  2019  2831.55      165760      3.74\n",
       "3           3  2018  2702.93      159840      6.45\n",
       "4           4  2017  2651.47      158480      6.80"
      ]
     },
     "execution_count": 53,
     "metadata": {},
     "output_type": "execute_result"
    }
   ],
   "source": [
    "df.head()"
   ]
  },
  {
   "cell_type": "code",
   "execution_count": 54,
   "id": "2f7abcd6",
   "metadata": {},
   "outputs": [
    {
     "name": "stdout",
     "output_type": "stream",
     "text": [
      "<class 'pandas.core.frame.DataFrame'>\n",
      "RangeIndex: 62 entries, 0 to 61\n",
      "Data columns (total 5 columns):\n",
      " #   Column      Non-Null Count  Dtype  \n",
      "---  ------      --------------  -----  \n",
      " 0   Unnamed: 0  62 non-null     int64  \n",
      " 1   Year        62 non-null     int64  \n",
      " 2   GDP         62 non-null     float64\n",
      " 3   Per Capita  62 non-null     int64  \n",
      " 4   Growth %    62 non-null     float64\n",
      "dtypes: float64(2), int64(3)\n",
      "memory usage: 2.5 KB\n"
     ]
    }
   ],
   "source": [
    "df.info()"
   ]
  },
  {
   "cell_type": "code",
   "execution_count": 55,
   "id": "eda4f5b4",
   "metadata": {},
   "outputs": [
    {
     "data": {
      "text/html": [
       "<div>\n",
       "<style scoped>\n",
       "    .dataframe tbody tr th:only-of-type {\n",
       "        vertical-align: middle;\n",
       "    }\n",
       "\n",
       "    .dataframe tbody tr th {\n",
       "        vertical-align: top;\n",
       "    }\n",
       "\n",
       "    .dataframe thead th {\n",
       "        text-align: right;\n",
       "    }\n",
       "</style>\n",
       "<table border=\"1\" class=\"dataframe\">\n",
       "  <thead>\n",
       "    <tr style=\"text-align: right;\">\n",
       "      <th></th>\n",
       "      <th>Unnamed: 0</th>\n",
       "      <th>Year</th>\n",
       "      <th>GDP</th>\n",
       "      <th>Per Capita</th>\n",
       "      <th>Growth %</th>\n",
       "    </tr>\n",
       "  </thead>\n",
       "  <tbody>\n",
       "    <tr>\n",
       "      <th>Unnamed: 0</th>\n",
       "      <td>1.000000</td>\n",
       "      <td>-1.000000</td>\n",
       "      <td>-0.848482</td>\n",
       "      <td>-0.867579</td>\n",
       "      <td>-0.307211</td>\n",
       "    </tr>\n",
       "    <tr>\n",
       "      <th>Year</th>\n",
       "      <td>-1.000000</td>\n",
       "      <td>1.000000</td>\n",
       "      <td>0.848482</td>\n",
       "      <td>0.867579</td>\n",
       "      <td>0.307211</td>\n",
       "    </tr>\n",
       "    <tr>\n",
       "      <th>GDP</th>\n",
       "      <td>-0.848482</td>\n",
       "      <td>0.848482</td>\n",
       "      <td>1.000000</td>\n",
       "      <td>0.998554</td>\n",
       "      <td>0.169999</td>\n",
       "    </tr>\n",
       "    <tr>\n",
       "      <th>Per Capita</th>\n",
       "      <td>-0.867579</td>\n",
       "      <td>0.867579</td>\n",
       "      <td>0.998554</td>\n",
       "      <td>1.000000</td>\n",
       "      <td>0.189860</td>\n",
       "    </tr>\n",
       "    <tr>\n",
       "      <th>Growth %</th>\n",
       "      <td>-0.307211</td>\n",
       "      <td>0.307211</td>\n",
       "      <td>0.169999</td>\n",
       "      <td>0.189860</td>\n",
       "      <td>1.000000</td>\n",
       "    </tr>\n",
       "  </tbody>\n",
       "</table>\n",
       "</div>"
      ],
      "text/plain": [
       "            Unnamed: 0      Year       GDP  Per Capita  Growth %\n",
       "Unnamed: 0    1.000000 -1.000000 -0.848482   -0.867579 -0.307211\n",
       "Year         -1.000000  1.000000  0.848482    0.867579  0.307211\n",
       "GDP          -0.848482  0.848482  1.000000    0.998554  0.169999\n",
       "Per Capita   -0.867579  0.867579  0.998554    1.000000  0.189860\n",
       "Growth %     -0.307211  0.307211  0.169999    0.189860  1.000000"
      ]
     },
     "execution_count": 55,
     "metadata": {},
     "output_type": "execute_result"
    }
   ],
   "source": [
    "df.corr()"
   ]
  },
  {
   "cell_type": "code",
   "execution_count": 56,
   "id": "8c21958b",
   "metadata": {},
   "outputs": [],
   "source": [
    "# What is the GDP of India in 2025?"
   ]
  },
  {
   "cell_type": "code",
   "execution_count": 57,
   "id": "26f9d6a0",
   "metadata": {},
   "outputs": [
    {
     "data": {
      "text/plain": [
       "<AxesSubplot:xlabel='Year', ylabel='GDP'>"
      ]
     },
     "execution_count": 57,
     "metadata": {},
     "output_type": "execute_result"
    },
    {
     "data": {
      "image/png": "[encoded data removed]",
      "text/plain": [
       "<Figure size 640x480 with 1 Axes>"
      ]
     },
     "metadata": {},
     "output_type": "display_data"
    }
   ],
   "source": [
    "sns.scatterplot(x='Year', y='GDP', data = df)\n",
    "# Exponential/Parabolic graph (USE POLYNOMIAL REGRESSION)"
   ]
  },
  {
   "cell_type": "code",
   "execution_count": 58,
   "id": "b84421cb",
   "metadata": {},
   "outputs": [],
   "source": [
    "trainDF = df.drop([14, 51])"
   ]
  },
  {
   "cell_type": "code",
   "execution_count": 59,
   "id": "254dbd11",
   "metadata": {},
   "outputs": [],
   "source": [
    "testDF = {\"Year\": [1970, 2007, 2022, 2023],\n",
    "          \"GDP\": [62.42, 12116.74, 3389.69, 3732.0]\n",
    "                   }\n",
    "testDF = pd.DataFrame.from_dict(testDF)"
   ]
  },
  {
   "cell_type": "code",
   "execution_count": 60,
   "id": "60a57b92",
   "metadata": {},
   "outputs": [
    {
     "data": {
      "text/html": [
       "<div>\n",
       "<style scoped>\n",
       "    .dataframe tbody tr th:only-of-type {\n",
       "        vertical-align: middle;\n",
       "    }\n",
       "\n",
       "    .dataframe tbody tr th {\n",
       "        vertical-align: top;\n",
       "    }\n",
       "\n",
       "    .dataframe thead th {\n",
       "        text-align: right;\n",
       "    }\n",
       "</style>\n",
       "<table border=\"1\" class=\"dataframe\">\n",
       "  <thead>\n",
       "    <tr style=\"text-align: right;\">\n",
       "      <th></th>\n",
       "      <th>Year</th>\n",
       "      <th>GDP</th>\n",
       "    </tr>\n",
       "  </thead>\n",
       "  <tbody>\n",
       "    <tr>\n",
       "      <th>0</th>\n",
       "      <td>1970</td>\n",
       "      <td>62.42</td>\n",
       "    </tr>\n",
       "    <tr>\n",
       "      <th>1</th>\n",
       "      <td>2007</td>\n",
       "      <td>12116.74</td>\n",
       "    </tr>\n",
       "    <tr>\n",
       "      <th>2</th>\n",
       "      <td>2022</td>\n",
       "      <td>3389.69</td>\n",
       "    </tr>\n",
       "    <tr>\n",
       "      <th>3</th>\n",
       "      <td>2023</td>\n",
       "      <td>3732.00</td>\n",
       "    </tr>\n",
       "  </tbody>\n",
       "</table>\n",
       "</div>"
      ],
      "text/plain": [
       "   Year       GDP\n",
       "0  1970     62.42\n",
       "1  2007  12116.74\n",
       "2  2022   3389.69\n",
       "3  2023   3732.00"
      ]
     },
     "execution_count": 60,
     "metadata": {},
     "output_type": "execute_result"
    }
   ],
   "source": [
    "testDF.head()"
   ]
  },
  {
   "cell_type": "code",
   "execution_count": 61,
   "id": "5a754278",
   "metadata": {},
   "outputs": [
    {
     "name": "stdout",
     "output_type": "stream",
     "text": [
      "0.42527912997000417x2 + 20\n"
     ]
    }
   ],
   "source": [
    "# Ax2 + B \n",
    "\n",
    "def trainModel(trainDF): \n",
    "    A = random.random()\n",
    "    B = random.randint(0, 50) \n",
    "    return A, B\n",
    "\n",
    "A, B = trainModel(trainDF)\n",
    "print(str(A) + \"x2 + \" + str(B))"
   ]
  },
  {
   "cell_type": "code",
   "execution_count": 62,
   "id": "f59b8f9a",
   "metadata": {},
   "outputs": [
    {
     "name": "stdout",
     "output_type": "stream",
     "text": [
      "1706236.7568920797\n"
     ]
    }
   ],
   "source": [
    "def testModel(testDF, A, B): \n",
    "    errors = []\n",
    "    for i in range(len(testDF)): \n",
    "        prediction = A*((testDF.iloc[i][\"Year\"])**2) + B \n",
    "        actual = testDF.iloc[i]['GDP']\n",
    "        errors.append((prediction - actual)**2)\n",
    "    \n",
    "    return math.sqrt(sum(errors)/len(errors))\n",
    "\n",
    "rmse = testModel(testDF, A, B)\n",
    "print(rmse)\n",
    "        "
   ]
  },
  {
   "cell_type": "code",
   "execution_count": 63,
   "id": "0e585a62",
   "metadata": {},
   "outputs": [],
   "source": [
    "models = {\n",
    "    \n",
    "}\n",
    "\n",
    "\n",
    "for i in range(100): \n",
    "    A, B = trainModel(trainDF)\n",
    "    rmse = testModel(testDF, A, B)\n",
    "    models[rmse] = [A, B]"
   ]
  },
  {
   "cell_type": "code",
   "execution_count": 64,
   "id": "c48a2f37",
   "metadata": {},
   "outputs": [
    {
     "data": {
      "text/plain": [
       "{2005665.0519529039: [0.499695542230144, 42],\n",
       " 1048820.3967377131: [0.26188285067764827, 9],\n",
       " 391639.6039476531: [0.09853319348615763, 34],\n",
       " 1827746.5007020338: [0.4554742544033691, 43],\n",
       " 2391666.0626968252: [0.5956361866626937, 36],\n",
       " 1752979.0781341852: [0.4368923059912755, 38],\n",
       " 3121734.1721403776: [0.7770970583423057, 15],\n",
       " 3857334.3113337574: [0.9599243557068555, 28],\n",
       " 812701.0513884651: [0.20318699403572027, 44],\n",
       " 394316.75690640975: [0.09920161285632767, 22],\n",
       " 2236099.4694401748: [0.5569746572035662, 20],\n",
       " 2449887.2886112095: [0.6101046197809356, 45],\n",
       " 1173131.321172964: [0.29277708051311857, 21],\n",
       " 3549189.9936130396: [0.883341769111198, 6],\n",
       " 2929433.554896925: [0.7293034703087514, 7],\n",
       " 267875.6979933043: [0.06777703561684212, 3],\n",
       " 895882.603388946: [0.22386145347328412, 45],\n",
       " 3161956.8335795254: [0.7870932507988069, 19],\n",
       " 2935359.8899170365: [0.7307707227753786, 30],\n",
       " 1389099.4654101522: [0.3464561378397084, 18],\n",
       " 1113486.6735243346: [0.277948811511498, 36],\n",
       " 1105591.2735694111: [0.2759901543614819, 21],\n",
       " 1226960.7114807994: [0.3061602197940986, 5],\n",
       " 3947805.5716294283: [0.9824096346337553, 32],\n",
       " 2960033.0624561436: [0.7369096056908853, 4],\n",
       " 1476751.3889234671: [0.3682367952802369, 38],\n",
       " 3363188.371627712: [0.8371130380566933, 1],\n",
       " 3575889.94270286: [0.8899707301386415, 35],\n",
       " 1027887.548602659: [0.25667630321094703, 24],\n",
       " 1282351.386776248: [0.31992718027879175, 6],\n",
       " 671856.7898843023: [0.16817886744162314, 49],\n",
       " 2065177.7148648966: [0.5144911797339257, 26],\n",
       " 912402.83366139: [0.22796704044455685, 47],\n",
       " 1464314.8735042894: [0.3651459852620066, 37],\n",
       " 2603961.4921080754: [0.6484103680377712, 0],\n",
       " 890601.0138526321: [0.22254747767916128, 50],\n",
       " 2167818.682856851: [0.5400012303790878, 30],\n",
       " 3301640.7710411614: [0.8218096586230793, 25],\n",
       " 2729059.463014122: [0.6795022497327196, 3],\n",
       " 1434326.0673032643: [0.35769210816442154, 38],\n",
       " 2930183.0290984074: [0.7294912401943012, 1],\n",
       " 3980096.411542238: [0.9904326612477953, 43],\n",
       " 1313190.6644623836: [0.32759219981572596, 6],\n",
       " 1539307.8365880444: [0.3837944516399341, 0],\n",
       " 2391678.416357312: [0.5956444754689598, 15],\n",
       " 3653508.3385663186: [0.9092612341411075, 40],\n",
       " 1994322.4572615481: [0.49687439230471186, 50],\n",
       " 653172.6845514748: [0.16353938018267278, 31],\n",
       " 1038360.1863987558: [0.25927677289246287, 34],\n",
       " 3420689.7989585176: [0.8514010653179566, 16],\n",
       " 1464681.0392926943: [0.3652402251050675, 24],\n",
       " 79942.53178364495: [0.021040058889144397, 26],\n",
       " 3564506.1325092814: [0.8871480381942994, 8],\n",
       " 3482970.5116205257: [0.8668826800995796, 8],\n",
       " 1644853.567375513: [0.41001831413947987, 37],\n",
       " 208554.58803548643: [0.053026473408375185, 19],\n",
       " 364817.58725692704: [0.09186375268438196, 44],\n",
       " 1516732.5534062705: [0.37817498592999677, 34],\n",
       " 1292971.0295531822: [0.3225589608069186, 37],\n",
       " 915457.5399461683: [0.22873473287256174, 13],\n",
       " 1755520.8860538069: [0.43752157892133836, 48],\n",
       " 616207.4841773441: [0.15435409500946562, 21],\n",
       " 2215456.6919478835: [0.5518429759656239, 24],\n",
       " 641455.7618350876: [0.1606223982038365, 50],\n",
       " 1535441.9104297361: [0.3828293632763605, 17],\n",
       " 3057081.402165941: [0.7610231413435006, 34],\n",
       " 2470347.424932865: [0.6151983591891996, 11],\n",
       " 613405.0298210328: [0.15365679310096592, 24],\n",
       " 2733785.8800303023: [0.6806677884962489, 40],\n",
       " 1186730.1628363663: [0.2961612645683528, 4],\n",
       " 2775340.412604465: [0.6910042096378003, 7],\n",
       " 1995014.9535834682: [0.4970492432582073, 39],\n",
       " 3793378.332825731: [0.944033071856897, 9],\n",
       " 1452664.1641299191: [0.36225893358623473, 2],\n",
       " 1461797.6057081472: [0.3645208228813007, 35],\n",
       " 2550566.2665003636: [0.6351304883002159, 35],\n",
       " 3984456.318516942: [0.9915227595851107, 17],\n",
       " 189751.10610940226: [0.04835552391796838, 4],\n",
       " 10478.13286109147: [0.003560681785058084, 36],\n",
       " 147480.8869866752: [0.03783633582170032, 42],\n",
       " 3983247.6838809107: [0.9912218612650868, 19],\n",
       " 1632791.1460158767: [0.40702123218622643, 33],\n",
       " 856834.8603337405: [0.21415841147106773, 36],\n",
       " 2116132.5528344233: [0.5271498588677258, 50],\n",
       " 766071.2641262193: [0.19160239011219904, 23],\n",
       " 1390712.0749775064: [0.34685545634279413, 24],\n",
       " 3567048.3784065368: [0.8877791579327675, 11],\n",
       " 914436.6212670616: [0.22847974230626156, 18],\n",
       " 3472673.3674804815: [0.8643169045563063, 34],\n",
       " 869450.0266417852: [0.21729414847140338, 35],\n",
       " 72783.19603807444: [0.019255911903741763, 33],\n",
       " 362855.6672838007: [0.09137459865015196, 50],\n",
       " 3646328.204633858: [0.9074773856440479, 37],\n",
       " 1816003.670730272: [0.4525645596795004, 7],\n",
       " 1777670.5498456045: [0.4430300340714324, 35],\n",
       " 2864672.5203208295: [0.7132078606458894, 5],\n",
       " 3405000.55471667: [0.8474990802083374, 26],\n",
       " 3929101.76468478: [0.9777581442532199, 43],\n",
       " 1751810.0907430358: [0.4366062309696903, 20],\n",
       " 3184533.255356115: [0.7927017993067818, 30]}"
      ]
     },
     "execution_count": 64,
     "metadata": {},
     "output_type": "execute_result"
    }
   ],
   "source": [
    "models"
   ]
  },
  {
   "cell_type": "code",
   "execution_count": null,
   "id": "52b2c0ad",
   "metadata": {},
   "outputs": [],
   "source": []
  }
 ],
 "metadata": {
  "kernelspec": {
   "display_name": "Python 3 (ipykernel)",
   "language": "python",
   "name": "python3"
  },
  "language_info": {
   "codemirror_mode": {
    "name": "ipython",
    "version": 3
   },
   "file_extension": ".py",
   "mimetype": "text/x-python",
   "name": "python",
   "nbconvert_exporter": "python",
   "pygments_lexer": "ipython3",
   "version": "3.9.13"
  }
 },
 "nbformat": 4,
 "nbformat_minor": 5
}
